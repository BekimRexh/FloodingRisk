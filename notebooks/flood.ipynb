{
 "cells": [
  {
   "cell_type": "code",
   "execution_count": 108,
   "id": "e23543a6",
   "metadata": {},
   "outputs": [],
   "source": [
    "import pandas as pd\n",
    "import numpy as np"
   ]
  },
  {
   "cell_type": "code",
   "execution_count": 109,
   "id": "79bf246d",
   "metadata": {},
   "outputs": [],
   "source": [
    "df_flood = pd.read_csv('../data/Flood Events/floodDataProcessed.csv', parse_dates=['Start Date', 'End Date'])\n",
    "df_rainfall = pd.read_csv('../data/Weather Data/daily-rainfall-at-state-level.csv')"
   ]
  },
  {
   "cell_type": "code",
   "execution_count": 112,
   "id": "c5a8a0c4",
   "metadata": {},
   "outputs": [
    {
     "data": {
      "text/plain": [
       "(624, 6)"
      ]
     },
     "execution_count": 112,
     "metadata": {},
     "output_type": "execute_result"
    }
   ],
   "source": [
    "# analysis dates will be from 2009 to 2019\n",
    "\n",
    "df_flood[\"year\"] = df_flood[\"Start Date\"].str.extract(r\"(\\d{4})\")\n",
    "df_flood[\"year\"] = pd.to_datetime(df_flood[\"year\"], format=\"%Y\")\n",
    "\n",
    "mask = df_flood[\"year\"].dt.year >= 2009\n",
    "df_flood = df_flood.loc[mask]\n",
    "\n",
    "df_flood.sort_values(by='year', inplace=True)\n",
    "df_flood.dropna(inplace=True)\n",
    "df_flood.shape"
   ]
  },
  {
   "cell_type": "code",
   "execution_count": null,
   "id": "6fbaeef0",
   "metadata": {},
   "outputs": [],
   "source": []
  },
  {
   "cell_type": "code",
   "execution_count": 113,
   "id": "b076bf44",
   "metadata": {},
   "outputs": [
    {
     "data": {
      "text/plain": [
       "(144612, 9)"
      ]
     },
     "execution_count": 113,
     "metadata": {},
     "output_type": "execute_result"
    }
   ],
   "source": [
    "df_rainfall['date'] = pd.to_datetime(df_rainfall['date'], format='%Y-%m-%d')\n",
    "df_rainfall['year'] = df_rainfall['date'].dt.year\n",
    "df_rainfall = df_rainfall[(df_rainfall['year'] >= 2009) & (df_rainfall['year'] <= 2019)]\n",
    "df_rainfall.shape"
   ]
  },
  {
   "cell_type": "code",
   "execution_count": 114,
   "id": "1d984374",
   "metadata": {},
   "outputs": [
    {
     "data": {
      "text/html": [
       "<div>\n",
       "<style scoped>\n",
       "    .dataframe tbody tr th:only-of-type {\n",
       "        vertical-align: middle;\n",
       "    }\n",
       "\n",
       "    .dataframe tbody tr th {\n",
       "        vertical-align: top;\n",
       "    }\n",
       "\n",
       "    .dataframe thead th {\n",
       "        text-align: right;\n",
       "    }\n",
       "</style>\n",
       "<table border=\"1\" class=\"dataframe\">\n",
       "  <thead>\n",
       "    <tr style=\"text-align: right;\">\n",
       "      <th></th>\n",
       "      <th>Unnamed: 0</th>\n",
       "      <th>Start Date</th>\n",
       "      <th>End Date</th>\n",
       "      <th>Duration(Days)</th>\n",
       "      <th>State</th>\n",
       "      <th>year</th>\n",
       "    </tr>\n",
       "  </thead>\n",
       "  <tbody>\n",
       "    <tr>\n",
       "      <th>951</th>\n",
       "      <td>951</td>\n",
       "      <td>2009-11-03</td>\n",
       "      <td>2009-11-08</td>\n",
       "      <td>5</td>\n",
       "      <td>TAMIL NADU</td>\n",
       "      <td>2009-01-01</td>\n",
       "    </tr>\n",
       "    <tr>\n",
       "      <th>639</th>\n",
       "      <td>639</td>\n",
       "      <td>2009-06-09</td>\n",
       "      <td>2009-10-09</td>\n",
       "      <td>122</td>\n",
       "      <td>WEST BENGAL</td>\n",
       "      <td>2009-01-01</td>\n",
       "    </tr>\n",
       "    <tr>\n",
       "      <th>633</th>\n",
       "      <td>633</td>\n",
       "      <td>2009-01-07</td>\n",
       "      <td>2009-06-07</td>\n",
       "      <td>151</td>\n",
       "      <td>ODISHA</td>\n",
       "      <td>2009-01-01</td>\n",
       "    </tr>\n",
       "    <tr>\n",
       "      <th>634</th>\n",
       "      <td>634</td>\n",
       "      <td>2009-11-07</td>\n",
       "      <td>2009-07-17</td>\n",
       "      <td>Diffing the dates</td>\n",
       "      <td>KARNATAKA</td>\n",
       "      <td>2009-01-01</td>\n",
       "    </tr>\n",
       "    <tr>\n",
       "      <th>636</th>\n",
       "      <td>636</td>\n",
       "      <td>2009-01-08</td>\n",
       "      <td>2009-04-08</td>\n",
       "      <td>90</td>\n",
       "      <td>BIHAR</td>\n",
       "      <td>2009-01-01</td>\n",
       "    </tr>\n",
       "    <tr>\n",
       "      <th>...</th>\n",
       "      <td>...</td>\n",
       "      <td>...</td>\n",
       "      <td>...</td>\n",
       "      <td>...</td>\n",
       "      <td>...</td>\n",
       "      <td>...</td>\n",
       "    </tr>\n",
       "    <tr>\n",
       "      <th>1022</th>\n",
       "      <td>1022</td>\n",
       "      <td>2019-06-28</td>\n",
       "      <td>2019-07-04</td>\n",
       "      <td>6</td>\n",
       "      <td>MAHARASHTRA</td>\n",
       "      <td>2019-01-01</td>\n",
       "    </tr>\n",
       "    <tr>\n",
       "      <th>1023</th>\n",
       "      <td>1023</td>\n",
       "      <td>2019-07-14</td>\n",
       "      <td>2019-09-30</td>\n",
       "      <td>78</td>\n",
       "      <td>ASSAM</td>\n",
       "      <td>2019-01-01</td>\n",
       "    </tr>\n",
       "    <tr>\n",
       "      <th>725</th>\n",
       "      <td>725</td>\n",
       "      <td>2019-11-30</td>\n",
       "      <td>2019-06-12</td>\n",
       "      <td>Diffing the dates</td>\n",
       "      <td>TAMIL NADU</td>\n",
       "      <td>2019-01-01</td>\n",
       "    </tr>\n",
       "    <tr>\n",
       "      <th>723</th>\n",
       "      <td>723</td>\n",
       "      <td>2019-09-15</td>\n",
       "      <td>2019-09-22</td>\n",
       "      <td>7</td>\n",
       "      <td>MADHYA PRADESH</td>\n",
       "      <td>2019-01-01</td>\n",
       "    </tr>\n",
       "    <tr>\n",
       "      <th>1026</th>\n",
       "      <td>1026</td>\n",
       "      <td>2019-11-29</td>\n",
       "      <td>2019-12-04</td>\n",
       "      <td>5</td>\n",
       "      <td>TAMIL NADU</td>\n",
       "      <td>2019-01-01</td>\n",
       "    </tr>\n",
       "  </tbody>\n",
       "</table>\n",
       "<p>624 rows × 6 columns</p>\n",
       "</div>"
      ],
      "text/plain": [
       "      Unnamed: 0  Start Date    End Date     Duration(Days)           State  \\\n",
       "951          951  2009-11-03  2009-11-08                  5      TAMIL NADU   \n",
       "639          639  2009-06-09  2009-10-09                122     WEST BENGAL   \n",
       "633          633  2009-01-07  2009-06-07                151          ODISHA   \n",
       "634          634  2009-11-07  2009-07-17  Diffing the dates       KARNATAKA   \n",
       "636          636  2009-01-08  2009-04-08                 90           BIHAR   \n",
       "...          ...         ...         ...                ...             ...   \n",
       "1022        1022  2019-06-28  2019-07-04                  6     MAHARASHTRA   \n",
       "1023        1023  2019-07-14  2019-09-30                 78           ASSAM   \n",
       "725          725  2019-11-30  2019-06-12  Diffing the dates      TAMIL NADU   \n",
       "723          723  2019-09-15  2019-09-22                  7  MADHYA PRADESH   \n",
       "1026        1026  2019-11-29  2019-12-04                  5      TAMIL NADU   \n",
       "\n",
       "           year  \n",
       "951  2009-01-01  \n",
       "639  2009-01-01  \n",
       "633  2009-01-01  \n",
       "634  2009-01-01  \n",
       "636  2009-01-01  \n",
       "...         ...  \n",
       "1022 2019-01-01  \n",
       "1023 2019-01-01  \n",
       "725  2019-01-01  \n",
       "723  2019-01-01  \n",
       "1026 2019-01-01  \n",
       "\n",
       "[624 rows x 6 columns]"
      ]
     },
     "execution_count": 114,
     "metadata": {},
     "output_type": "execute_result"
    }
   ],
   "source": [
    "df_flood"
   ]
  }
 ],
 "metadata": {
  "kernelspec": {
   "display_name": "flood_env",
   "language": "python",
   "name": "python3"
  },
  "language_info": {
   "codemirror_mode": {
    "name": "ipython",
    "version": 3
   },
   "file_extension": ".py",
   "mimetype": "text/x-python",
   "name": "python",
   "nbconvert_exporter": "python",
   "pygments_lexer": "ipython3",
   "version": "3.11.13"
  }
 },
 "nbformat": 4,
 "nbformat_minor": 5
}
